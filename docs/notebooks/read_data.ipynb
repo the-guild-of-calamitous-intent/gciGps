{
 "cells": [
  {
   "cell_type": "markdown",
   "id": "ce0fc302-499d-454c-acbf-fd24e6255c6f",
   "metadata": {},
   "source": [
    "# Parsing GPS Messages with `gcigps`\n",
    "\n",
    "```\n",
    "$GPGGA,234804.000,3906.7106,N,12120.3144,W,1,04,1.77,135.6,M,-22.1,M,,*51\n",
    "$GPGSA,A,3,03,32,02,04,,,,,,,,,2.01,1.77,0.95*08\n",
    "$GPRMC,234804.000,A,3906.7106,N,12120.3144,W,0.10,107.17,120823,,,A*70\n",
    "$GPVTG,107.17,T,,M,0.10,N,0.19,K,A*34\n",
    "$GPGGA,234805.000,3906.7106,N,12120.3144,W,1,04,1.77,135.6,M,-22.1,M,,*50\n",
    "$GPGSA,A,3,03,32,02,04,,,,,,,,,2.01,1.77,0.95*08\n",
    "$GPRMC,234805.000,A,3906.7106,N,12120.3144,W,0.17,95.16,120823,,,A*4D\n",
    "$GPVTG,95.16,T,,M,0.17,N,0.31,K,A*02\n",
    "```"
   ]
  },
  {
   "cell_type": "code",
   "execution_count": 1,
   "id": "f1352f54-7333-40a1-8cf3-e888ffe29527",
   "metadata": {},
   "outputs": [],
   "source": [
    "# reload library\n",
    "%load_ext autoreload\n",
    "%autoreload 2"
   ]
  },
  {
   "cell_type": "code",
   "execution_count": 2,
   "id": "f72e0189-8ed0-46ad-8891-345858986eae",
   "metadata": {},
   "outputs": [],
   "source": [
    "from the_collector import Collector\n",
    "from gcigps import Parser"
   ]
  },
  {
   "cell_type": "code",
   "execution_count": 3,
   "id": "d4689608-6c0b-451e-90f9-144f61ea278c",
   "metadata": {},
   "outputs": [
    {
     "name": "stdout",
     "output_type": "stream",
     "text": [
      "Loaded 100 data points from:\n",
      "--> ../../data/raw/data.gzip\n"
     ]
    }
   ],
   "source": [
    "col = Collector()\n",
    "data = col.read(\"../../data/raw/data.gzip\")"
   ]
  },
  {
   "cell_type": "code",
   "execution_count": 4,
   "id": "0785b05a-f9e2-44dc-a3ea-f74f01fbe18f",
   "metadata": {},
   "outputs": [
    {
     "name": "stdout",
     "output_type": "stream",
     "text": [
      "{'gps': 'Adafruit Ultimage GPS v3'}\n"
     ]
    }
   ],
   "source": [
    "print(data[\"info\"])\n",
    "msgs = data[\"data\"]"
   ]
  },
  {
   "cell_type": "code",
   "execution_count": 5,
   "id": "2e74444f-29c8-4c25-a0d1-b52c775b6f75",
   "metadata": {},
   "outputs": [
    {
     "name": "stdout",
     "output_type": "stream",
     "text": [
      "0: GGA(id='GPGGA', utc=time_t(hr=20, min=19, sec=53.0), lat=39.11182, lon=-121.33844666666667, qual=1, num_sats=8, hdop=1.1, msl=58.7, geoid=-22.1, age='', ref_id='')\n",
      "2: RMC(id='GPRMC', utc=time_t(hr=20, min=19, sec=53.0), status='A', lat=39.11182, lon=-121.33844666666667, speed=0.08, track=56.86, data=data_t(day=13, month=8, year=23), mag='')\n",
      "4: GGA(id='GPGGA', utc=time_t(hr=20, min=19, sec=54.0), lat=39.11182, lon=-121.33844666666667, qual=1, num_sats=8, hdop=1.04, msl=58.7, geoid=-22.1, age='', ref_id='')\n",
      "6: RMC(id='GPRMC', utc=time_t(hr=20, min=19, sec=54.0), status='A', lat=39.11182, lon=-121.33844666666667, speed=0.2, track=63.36, data=data_t(day=13, month=8, year=23), mag='')\n",
      "8: GGA(id='GPGGA', utc=time_t(hr=20, min=19, sec=55.0), lat=39.111821666666664, lon=-121.338445, qual=1, num_sats=8, hdop=1.04, msl=58.7, geoid=-22.1, age='', ref_id='')\n",
      "13: RMC(id='GPRMC', utc=time_t(hr=20, min=19, sec=55.0), status='A', lat=39.111821666666664, lon=-121.338445, speed=0.12, track=90.14, data=data_t(day=13, month=8, year=23), mag='')\n",
      "15: GGA(id='GPGGA', utc=time_t(hr=20, min=19, sec=56.0), lat=39.111821666666664, lon=-121.338445, qual=1, num_sats=8, hdop=1.04, msl=58.7, geoid=-22.1, age='', ref_id='')\n",
      "17: RMC(id='GPRMC', utc=time_t(hr=20, min=19, sec=56.0), status='A', lat=39.111821666666664, lon=-121.338445, speed=0.32, track=142.29, data=data_t(day=13, month=8, year=23), mag='')\n",
      "19: GGA(id='GPGGA', utc=time_t(hr=20, min=19, sec=57.0), lat=39.11182, lon=-121.33844333333333, qual=1, num_sats=8, hdop=1.04, msl=58.7, geoid=-22.1, age='', ref_id='')\n",
      "21: RMC(id='GPRMC', utc=time_t(hr=20, min=19, sec=57.0), status='A', lat=39.11182, lon=-121.33844333333333, speed=0.66, track=166.65, data=data_t(day=13, month=8, year=23), mag='')\n",
      "23: GGA(id='GPGGA', utc=time_t(hr=20, min=19, sec=58.0), lat=39.111815, lon=-121.33844333333333, qual=1, num_sats=8, hdop=1.04, msl=58.8, geoid=-22.1, age='', ref_id='')\n",
      "25: RMC(id='GPRMC', utc=time_t(hr=20, min=19, sec=58.0), status='A', lat=39.111815, lon=-121.33844333333333, speed=0.96, track=184.46, data=data_t(day=13, month=8, year=23), mag='')\n",
      "27: GGA(id='GPGGA', utc=time_t(hr=20, min=19, sec=59.0), lat=39.11181333333333, lon=-121.33844333333333, qual=1, num_sats=8, hdop=1.04, msl=58.9, geoid=-22.1, age='', ref_id='')\n",
      "29: RMC(id='GPRMC', utc=time_t(hr=20, min=19, sec=59.0), status='A', lat=39.11181333333333, lon=-121.33844333333333, speed=0.79, track=169.87, data=data_t(day=13, month=8, year=23), mag='')\n",
      "31: GGA(id='GPGGA', utc=time_t(hr=20, min=20, sec=0.0), lat=39.11181166666667, lon=-121.338445, qual=1, num_sats=8, hdop=1.04, msl=59.0, geoid=-22.1, age='', ref_id='')\n",
      "36: RMC(id='GPRMC', utc=time_t(hr=20, min=20, sec=0.0), status='A', lat=39.11181166666667, lon=-121.338445, speed=0.71, track=173.83, data=data_t(day=13, month=8, year=23), mag='')\n",
      "38: GGA(id='GPGGA', utc=time_t(hr=20, min=20, sec=1.0), lat=39.111808333333336, lon=-121.338445, qual=1, num_sats=8, hdop=1.04, msl=59.1, geoid=-22.1, age='', ref_id='')\n",
      "40: RMC(id='GPRMC', utc=time_t(hr=20, min=20, sec=1.0), status='A', lat=39.111808333333336, lon=-121.338445, speed=0.95, track=185.12, data=data_t(day=13, month=8, year=23), mag='')\n",
      "42: GGA(id='GPGGA', utc=time_t(hr=20, min=20, sec=2.0), lat=39.111808333333336, lon=-121.338445, qual=1, num_sats=8, hdop=1.04, msl=59.2, geoid=-22.1, age='', ref_id='')\n",
      "44: RMC(id='GPRMC', utc=time_t(hr=20, min=20, sec=2.0), status='A', lat=39.111808333333336, lon=-121.338445, speed=0.52, track=160.83, data=data_t(day=13, month=8, year=23), mag='')\n",
      "46: GGA(id='GPGGA', utc=time_t(hr=20, min=20, sec=3.0), lat=39.11181, lon=-121.33844333333333, qual=1, num_sats=8, hdop=1.04, msl=59.3, geoid=-22.1, age='', ref_id='')\n",
      "48: RMC(id='GPRMC', utc=time_t(hr=20, min=20, sec=3.0), status='A', lat=39.11181, lon=-121.33844333333333, speed=0.38, track=173.26, data=data_t(day=13, month=8, year=23), mag='')\n",
      "50: GGA(id='GPGGA', utc=time_t(hr=20, min=20, sec=4.0), lat=39.11181166666667, lon=-121.33844333333333, qual=1, num_sats=8, hdop=1.04, msl=59.4, geoid=-22.1, age='', ref_id='')\n",
      "52: RMC(id='GPRMC', utc=time_t(hr=20, min=20, sec=4.0), status='A', lat=39.11181166666667, lon=-121.33844333333333, speed=0.29, track=199.63, data=data_t(day=13, month=8, year=23), mag='')\n",
      "54: GGA(id='GPGGA', utc=time_t(hr=20, min=20, sec=5.0), lat=39.11181333333333, lon=-121.33844333333333, qual=1, num_sats=8, hdop=1.04, msl=59.5, geoid=-22.1, age='', ref_id='')\n",
      "59: RMC(id='GPRMC', utc=time_t(hr=20, min=20, sec=5.0), status='A', lat=39.11181333333333, lon=-121.33844333333333, speed=0.53, track=191.42, data=data_t(day=13, month=8, year=23), mag='')\n",
      "61: GGA(id='GPGGA', utc=time_t(hr=20, min=20, sec=6.0), lat=39.11181166666667, lon=-121.338445, qual=1, num_sats=8, hdop=1.04, msl=59.5, geoid=-22.1, age='', ref_id='')\n",
      "63: RMC(id='GPRMC', utc=time_t(hr=20, min=20, sec=6.0), status='A', lat=39.11181166666667, lon=-121.338445, speed=1.01, track=175.74, data=data_t(day=13, month=8, year=23), mag='')\n",
      "65: GGA(id='GPGGA', utc=time_t(hr=20, min=20, sec=7.0), lat=39.11181666666667, lon=-121.338445, qual=1, num_sats=8, hdop=1.04, msl=59.7, geoid=-22.1, age='', ref_id='')\n",
      "67: RMC(id='GPRMC', utc=time_t(hr=20, min=20, sec=7.0), status='A', lat=39.11181666666667, lon=-121.338445, speed=0.77, track=186.88, data=data_t(day=13, month=8, year=23), mag='')\n",
      "69: GGA(id='GPGGA', utc=time_t(hr=20, min=20, sec=8.0), lat=39.11181833333333, lon=-121.33844666666667, qual=1, num_sats=8, hdop=1.04, msl=59.8, geoid=-22.1, age='', ref_id='')\n",
      "71: RMC(id='GPRMC', utc=time_t(hr=20, min=20, sec=8.0), status='A', lat=39.11181833333333, lon=-121.33844666666667, speed=0.49, track=161.08, data=data_t(day=13, month=8, year=23), mag='')\n",
      "73: GGA(id='GPGGA', utc=time_t(hr=20, min=20, sec=9.0), lat=39.111825, lon=-121.33844666666667, qual=1, num_sats=8, hdop=1.04, msl=59.9, geoid=-22.1, age='', ref_id='')\n",
      "75: RMC(id='GPRMC', utc=time_t(hr=20, min=20, sec=9.0), status='A', lat=39.111825, lon=-121.33844666666667, speed=0.24, track=177.66, data=data_t(day=13, month=8, year=23), mag='')\n",
      "77: GGA(id='GPGGA', utc=time_t(hr=20, min=20, sec=10.0), lat=39.111828333333335, lon=-121.338445, qual=1, num_sats=8, hdop=1.04, msl=59.9, geoid=-22.1, age='', ref_id='')\n",
      "82: RMC(id='GPRMC', utc=time_t(hr=20, min=20, sec=10.0), status='A', lat=39.111828333333335, lon=-121.338445, speed=0.38, track=142.76, data=data_t(day=13, month=8, year=23), mag='')\n",
      "84: GGA(id='GPGGA', utc=time_t(hr=20, min=20, sec=11.0), lat=39.111828333333335, lon=-121.33844666666667, qual=1, num_sats=8, hdop=1.04, msl=60.0, geoid=-22.1, age='', ref_id='')\n",
      "86: RMC(id='GPRMC', utc=time_t(hr=20, min=20, sec=11.0), status='A', lat=39.111828333333335, lon=-121.33844666666667, speed=0.42, track=210.47, data=data_t(day=13, month=8, year=23), mag='')\n",
      "88: GGA(id='GPGGA', utc=time_t(hr=20, min=20, sec=12.0), lat=39.111826666666666, lon=-121.33844666666667, qual=1, num_sats=8, hdop=1.04, msl=60.0, geoid=-22.1, age='', ref_id='')\n",
      "90: RMC(id='GPRMC', utc=time_t(hr=20, min=20, sec=12.0), status='A', lat=39.111826666666666, lon=-121.33844666666667, speed=0.62, track=175.24, data=data_t(day=13, month=8, year=23), mag='')\n",
      "92: GGA(id='GPGGA', utc=time_t(hr=20, min=20, sec=13.0), lat=39.111826666666666, lon=-121.33844666666667, qual=1, num_sats=8, hdop=1.04, msl=60.0, geoid=-22.1, age='', ref_id='')\n",
      "94: RMC(id='GPRMC', utc=time_t(hr=20, min=20, sec=13.0), status='A', lat=39.111826666666666, lon=-121.33844666666667, speed=0.68, track=177.28, data=data_t(day=13, month=8, year=23), mag='')\n",
      "96: GGA(id='GPGGA', utc=time_t(hr=20, min=20, sec=14.0), lat=39.111825, lon=-121.33844666666667, qual=1, num_sats=8, hdop=1.04, msl=60.0, geoid=-22.1, age='', ref_id='')\n",
      "98: RMC(id='GPRMC', utc=time_t(hr=20, min=20, sec=14.0), status='A', lat=39.111825, lon=-121.33844666666667, speed=0.4, track=199.2, data=data_t(day=13, month=8, year=23), mag='')\n"
     ]
    }
   ],
   "source": [
    "par = Parser()\n",
    "\n",
    "for i, msg in enumerate(msgs):\n",
    "    m = par.parse_msg(msg)\n",
    "    if m is not None:\n",
    "        print(f\"{i}: {m}\")"
   ]
  },
  {
   "cell_type": "markdown",
   "id": "c0ccb530-8c16-4038-89e3-90aac9a935a1",
   "metadata": {},
   "source": [
    "# Appendix"
   ]
  },
  {
   "cell_type": "code",
   "execution_count": 6,
   "id": "85135a72-58ba-4901-95ba-bd1e6fa6163a",
   "metadata": {},
   "outputs": [],
   "source": [
    "from jtb import getCodeImport"
   ]
  },
  {
   "cell_type": "code",
   "execution_count": 7,
   "id": "22d61210-cf12-42b4-9875-10549de69090",
   "metadata": {},
   "outputs": [
    {
     "data": {
      "text/html": [
       "<div class=\"highlight\"><pre><span></span><span class=\"k\">class</span> <span class=\"nc\">Parser</span><span class=\"p\">:</span>\n",
       "\n",
       "    <span class=\"n\">gga</span> <span class=\"o\">=</span> <span class=\"kc\">True</span>\n",
       "    <span class=\"n\">gsa</span> <span class=\"o\">=</span> <span class=\"kc\">False</span>\n",
       "    <span class=\"n\">gsv</span> <span class=\"o\">=</span> <span class=\"kc\">False</span>\n",
       "    <span class=\"n\">rmc</span> <span class=\"o\">=</span> <span class=\"kc\">True</span>\n",
       "    <span class=\"n\">vtg</span> <span class=\"o\">=</span> <span class=\"kc\">False</span>\n",
       "\n",
       "    <span class=\"k\">def</span> <span class=\"nf\">parse_msg</span><span class=\"p\">(</span><span class=\"bp\">self</span><span class=\"p\">,</span> <span class=\"n\">msg</span><span class=\"p\">):</span>\n",
       "        <span class=\"n\">ok</span> <span class=\"o\">=</span> <span class=\"bp\">self</span><span class=\"o\">.</span><span class=\"n\">valid_msg</span><span class=\"p\">(</span><span class=\"n\">msg</span><span class=\"p\">)</span>\n",
       "        <span class=\"k\">if</span> <span class=\"ow\">not</span> <span class=\"n\">ok</span><span class=\"p\">:</span>\n",
       "            <span class=\"nb\">print</span><span class=\"p\">(</span><span class=\"s2\">&quot;*** ERROR: invalide gps message ***&quot;</span><span class=\"p\">)</span>\n",
       "            <span class=\"nb\">print</span><span class=\"p\">(</span><span class=\"n\">msg</span><span class=\"p\">)</span>\n",
       "            <span class=\"k\">return</span> <span class=\"kc\">None</span>\n",
       "\n",
       "        <span class=\"n\">hdr</span> <span class=\"o\">=</span> <span class=\"n\">msg</span><span class=\"p\">[</span><span class=\"mi\">3</span><span class=\"p\">:</span><span class=\"mi\">6</span><span class=\"p\">]</span>\n",
       "        <span class=\"n\">gps</span> <span class=\"o\">=</span> <span class=\"kc\">None</span>\n",
       "        <span class=\"k\">if</span> <span class=\"n\">hdr</span> <span class=\"o\">==</span> <span class=\"s2\">&quot;GSA&quot;</span><span class=\"p\">:</span>\n",
       "            <span class=\"k\">if</span> <span class=\"ow\">not</span> <span class=\"bp\">self</span><span class=\"o\">.</span><span class=\"n\">gsa</span><span class=\"p\">:</span> <span class=\"k\">return</span> <span class=\"kc\">None</span>\n",
       "            <span class=\"n\">gps</span> <span class=\"o\">=</span> <span class=\"bp\">self</span><span class=\"o\">.</span><span class=\"n\">gsa_parser</span><span class=\"p\">(</span><span class=\"n\">msg</span><span class=\"p\">)</span>\n",
       "        <span class=\"k\">elif</span> <span class=\"n\">hdr</span> <span class=\"o\">==</span> <span class=\"s2\">&quot;RMC&quot;</span><span class=\"p\">:</span>\n",
       "            <span class=\"k\">if</span> <span class=\"ow\">not</span> <span class=\"bp\">self</span><span class=\"o\">.</span><span class=\"n\">rmc</span><span class=\"p\">:</span> <span class=\"k\">return</span> <span class=\"kc\">None</span>\n",
       "            <span class=\"n\">gps</span> <span class=\"o\">=</span> <span class=\"bp\">self</span><span class=\"o\">.</span><span class=\"n\">rmc_parser</span><span class=\"p\">(</span><span class=\"n\">msg</span><span class=\"p\">)</span>\n",
       "        <span class=\"k\">elif</span> <span class=\"n\">hdr</span> <span class=\"o\">==</span> <span class=\"s2\">&quot;GGA&quot;</span><span class=\"p\">:</span>\n",
       "            <span class=\"k\">if</span> <span class=\"ow\">not</span> <span class=\"bp\">self</span><span class=\"o\">.</span><span class=\"n\">gga</span><span class=\"p\">:</span> <span class=\"k\">return</span> <span class=\"kc\">None</span>\n",
       "            <span class=\"n\">gps</span> <span class=\"o\">=</span> <span class=\"bp\">self</span><span class=\"o\">.</span><span class=\"n\">gga_parser</span><span class=\"p\">(</span><span class=\"n\">msg</span><span class=\"p\">)</span>\n",
       "        <span class=\"k\">elif</span> <span class=\"n\">hdr</span> <span class=\"o\">==</span> <span class=\"s2\">&quot;GSV&quot;</span><span class=\"p\">:</span>\n",
       "            <span class=\"k\">if</span> <span class=\"ow\">not</span> <span class=\"bp\">self</span><span class=\"o\">.</span><span class=\"n\">gsv</span><span class=\"p\">:</span> <span class=\"k\">return</span> <span class=\"kc\">None</span>\n",
       "            <span class=\"c1\"># gps = gsv_parser(msg)</span>\n",
       "            <span class=\"k\">pass</span>\n",
       "        <span class=\"k\">elif</span> <span class=\"n\">hdr</span> <span class=\"o\">==</span> <span class=\"s2\">&quot;VTG&quot;</span><span class=\"p\">:</span>\n",
       "            <span class=\"k\">if</span> <span class=\"ow\">not</span> <span class=\"bp\">self</span><span class=\"o\">.</span><span class=\"n\">vtg</span><span class=\"p\">:</span> <span class=\"k\">return</span> <span class=\"kc\">None</span>\n",
       "            <span class=\"c1\"># gps = vtg_parser(msg)</span>\n",
       "            <span class=\"k\">pass</span>\n",
       "        <span class=\"k\">else</span><span class=\"p\">:</span>\n",
       "            <span class=\"nb\">print</span><span class=\"p\">(</span><span class=\"s2\">&quot;Unknown message:&quot;</span><span class=\"p\">,</span> <span class=\"n\">msg</span><span class=\"p\">)</span>\n",
       "\n",
       "        <span class=\"k\">return</span> <span class=\"n\">gps</span>\n",
       "\n",
       "    <span class=\"k\">def</span> <span class=\"nf\">valid_msg</span><span class=\"p\">(</span><span class=\"bp\">self</span><span class=\"p\">,</span> <span class=\"n\">msg</span><span class=\"p\">):</span>\n",
       "        <span class=\"k\">if</span> <span class=\"n\">msg</span><span class=\"p\">[</span><span class=\"mi\">0</span><span class=\"p\">]</span> <span class=\"o\">!=</span> <span class=\"s1\">&#39;$&#39;</span> <span class=\"ow\">or</span> <span class=\"n\">msg</span><span class=\"p\">[</span><span class=\"o\">-</span><span class=\"mi\">3</span><span class=\"p\">]</span> <span class=\"o\">!=</span> <span class=\"s1\">&#39;*&#39;</span><span class=\"p\">:</span>\n",
       "            <span class=\"k\">return</span> <span class=\"kc\">False</span>\n",
       "\n",
       "        <span class=\"n\">cs</span> <span class=\"o\">=</span> <span class=\"mi\">0</span>\n",
       "        <span class=\"k\">for</span> <span class=\"n\">c</span> <span class=\"ow\">in</span> <span class=\"n\">msg</span><span class=\"p\">[</span><span class=\"mi\">1</span><span class=\"p\">:</span><span class=\"o\">-</span><span class=\"mi\">3</span><span class=\"p\">]:</span>\n",
       "            <span class=\"n\">cs</span> <span class=\"o\">=</span> <span class=\"n\">cs</span> <span class=\"o\">^</span> <span class=\"nb\">ord</span><span class=\"p\">(</span><span class=\"n\">c</span><span class=\"p\">)</span>\n",
       "\n",
       "        <span class=\"n\">cs</span> <span class=\"o\">=</span> <span class=\"n\">cs</span> <span class=\"o\">&amp;</span> <span class=\"mh\">0xff</span>\n",
       "        <span class=\"c1\"># cc = parseHex(msg[-2])*16 + parseHex(msg[-1])</span>\n",
       "        <span class=\"n\">cc</span> <span class=\"o\">=</span> <span class=\"n\">parseHex</span><span class=\"p\">(</span><span class=\"n\">msg</span><span class=\"p\">[</span><span class=\"o\">-</span><span class=\"mi\">2</span><span class=\"p\">],</span> <span class=\"n\">msg</span><span class=\"p\">[</span><span class=\"o\">-</span><span class=\"mi\">1</span><span class=\"p\">])</span>\n",
       "        <span class=\"k\">return</span> <span class=\"n\">cc</span> <span class=\"o\">==</span> <span class=\"n\">cs</span>\n",
       "\n",
       "    <span class=\"k\">def</span> <span class=\"nf\">gsa_parser</span><span class=\"p\">(</span><span class=\"bp\">self</span><span class=\"p\">,</span> <span class=\"n\">msg</span><span class=\"p\">):</span>\n",
       "<span class=\"w\">        </span><span class=\"sd\">&quot;&quot;&quot;</span>\n",
       "<span class=\"sd\">        $GPGSA,A,3,03,32,02,04,,,,,,,,,2.01,1.77,0.95*08</span>\n",
       "<span class=\"sd\">        &quot;&quot;&quot;</span>\n",
       "        <span class=\"n\">chunks</span> <span class=\"o\">=</span> <span class=\"n\">msg</span><span class=\"p\">[</span><span class=\"mi\">1</span><span class=\"p\">:</span><span class=\"o\">-</span><span class=\"mi\">3</span><span class=\"p\">]</span><span class=\"o\">.</span><span class=\"n\">split</span><span class=\"p\">(</span><span class=\"s1\">&#39;,&#39;</span><span class=\"p\">)</span>\n",
       "        <span class=\"k\">match</span> <span class=\"nb\">int</span><span class=\"p\">(</span><span class=\"n\">chunks</span><span class=\"p\">[</span><span class=\"mi\">2</span><span class=\"p\">]):</span>\n",
       "            <span class=\"k\">case</span> <span class=\"mi\">1</span><span class=\"p\">:</span> <span class=\"n\">fix</span> <span class=\"o\">=</span> <span class=\"s2\">&quot;unavailable&quot;</span>\n",
       "            <span class=\"k\">case</span> <span class=\"mi\">2</span><span class=\"p\">:</span> <span class=\"n\">fix</span> <span class=\"o\">=</span> <span class=\"s2\">&quot;2D&quot;</span>\n",
       "            <span class=\"k\">case</span> <span class=\"mi\">3</span><span class=\"p\">:</span> <span class=\"n\">fix</span> <span class=\"o\">=</span> <span class=\"s2\">&quot;3D&quot;</span>\n",
       "            <span class=\"k\">case</span><span class=\"w\"> </span><span class=\"k\">_</span><span class=\"p\">:</span> <span class=\"n\">fix</span> <span class=\"o\">=</span> <span class=\"n\">chunks</span><span class=\"p\">[</span><span class=\"mi\">2</span><span class=\"p\">]</span>\n",
       "\n",
       "        <span class=\"n\">msg</span> <span class=\"o\">=</span> <span class=\"n\">GSA</span><span class=\"p\">(</span>\n",
       "            <span class=\"n\">chunks</span><span class=\"p\">[</span><span class=\"mi\">0</span><span class=\"p\">],</span>\n",
       "            <span class=\"n\">chunks</span><span class=\"p\">[</span><span class=\"mi\">1</span><span class=\"p\">],</span>\n",
       "            <span class=\"n\">fix</span><span class=\"p\">,</span>\n",
       "            <span class=\"n\">chunks</span><span class=\"p\">[</span><span class=\"mi\">3</span><span class=\"p\">:</span><span class=\"mi\">15</span><span class=\"p\">],</span>\n",
       "            <span class=\"nb\">float</span><span class=\"p\">(</span><span class=\"n\">chunks</span><span class=\"p\">[</span><span class=\"mi\">15</span><span class=\"p\">]),</span>\n",
       "            <span class=\"nb\">float</span><span class=\"p\">(</span><span class=\"n\">chunks</span><span class=\"p\">[</span><span class=\"mi\">16</span><span class=\"p\">]),</span>\n",
       "            <span class=\"nb\">float</span><span class=\"p\">(</span><span class=\"n\">chunks</span><span class=\"p\">[</span><span class=\"mi\">17</span><span class=\"p\">])</span>\n",
       "        <span class=\"p\">)</span>\n",
       "        <span class=\"k\">return</span> <span class=\"n\">msg</span>\n",
       "\n",
       "    <span class=\"k\">def</span> <span class=\"nf\">rmc_parser</span><span class=\"p\">(</span><span class=\"bp\">self</span><span class=\"p\">,</span> <span class=\"n\">msg</span><span class=\"p\">):</span>\n",
       "<span class=\"w\">        </span><span class=\"sd\">&quot;&quot;&quot;</span>\n",
       "<span class=\"sd\">        $GPRMC,234805.000,A,3906.7106,N,12120.3144,W,0.17,95.16,120823,,,A*4D</span>\n",
       "<span class=\"sd\">        &quot;&quot;&quot;</span>\n",
       "        <span class=\"n\">chunks</span> <span class=\"o\">=</span> <span class=\"n\">msg</span><span class=\"p\">[</span><span class=\"mi\">1</span><span class=\"p\">:</span><span class=\"o\">-</span><span class=\"mi\">3</span><span class=\"p\">]</span><span class=\"o\">.</span><span class=\"n\">split</span><span class=\"p\">(</span><span class=\"s1\">&#39;,&#39;</span><span class=\"p\">)</span>\n",
       "        <span class=\"nb\">id</span> <span class=\"o\">=</span> <span class=\"n\">chunks</span><span class=\"p\">[</span><span class=\"mi\">0</span><span class=\"p\">]</span>\n",
       "        <span class=\"n\">utc</span> <span class=\"o\">=</span> <span class=\"n\">time_t</span><span class=\"p\">(</span>\n",
       "            <span class=\"nb\">int</span><span class=\"p\">(</span><span class=\"n\">chunks</span><span class=\"p\">[</span><span class=\"mi\">1</span><span class=\"p\">][:</span><span class=\"mi\">2</span><span class=\"p\">]),</span>\n",
       "            <span class=\"nb\">int</span><span class=\"p\">(</span><span class=\"n\">chunks</span><span class=\"p\">[</span><span class=\"mi\">1</span><span class=\"p\">][</span><span class=\"mi\">2</span><span class=\"p\">:</span><span class=\"mi\">4</span><span class=\"p\">]),</span>\n",
       "            <span class=\"nb\">float</span><span class=\"p\">(</span><span class=\"n\">chunks</span><span class=\"p\">[</span><span class=\"mi\">1</span><span class=\"p\">][</span><span class=\"mi\">4</span><span class=\"p\">:])</span>\n",
       "        <span class=\"p\">)</span>\n",
       "        <span class=\"n\">lat</span> <span class=\"o\">=</span> <span class=\"nb\">float</span><span class=\"p\">(</span><span class=\"n\">chunks</span><span class=\"p\">[</span><span class=\"mi\">3</span><span class=\"p\">][:</span><span class=\"mi\">2</span><span class=\"p\">])</span> <span class=\"o\">+</span> <span class=\"nb\">float</span><span class=\"p\">(</span><span class=\"n\">chunks</span><span class=\"p\">[</span><span class=\"mi\">3</span><span class=\"p\">][</span><span class=\"mi\">2</span><span class=\"p\">:])</span> <span class=\"o\">/</span> <span class=\"mf\">60.0</span>\n",
       "        <span class=\"k\">if</span> <span class=\"n\">chunks</span><span class=\"p\">[</span><span class=\"mi\">4</span><span class=\"p\">]</span> <span class=\"o\">==</span> <span class=\"s1\">&#39;S&#39;</span><span class=\"p\">:</span>\n",
       "            <span class=\"n\">lat</span> <span class=\"o\">=</span> <span class=\"o\">-</span><span class=\"n\">lat</span>\n",
       "        <span class=\"n\">lon</span> <span class=\"o\">=</span> <span class=\"nb\">float</span><span class=\"p\">(</span><span class=\"n\">chunks</span><span class=\"p\">[</span><span class=\"mi\">5</span><span class=\"p\">][:</span><span class=\"mi\">3</span><span class=\"p\">])</span> <span class=\"o\">+</span> <span class=\"nb\">float</span><span class=\"p\">(</span><span class=\"n\">chunks</span><span class=\"p\">[</span><span class=\"mi\">5</span><span class=\"p\">][</span><span class=\"mi\">3</span><span class=\"p\">:])</span> <span class=\"o\">/</span> <span class=\"mf\">60.0</span>\n",
       "        <span class=\"k\">if</span> <span class=\"n\">chunks</span><span class=\"p\">[</span><span class=\"mi\">6</span><span class=\"p\">]</span> <span class=\"o\">==</span> <span class=\"s1\">&#39;W&#39;</span><span class=\"p\">:</span>\n",
       "            <span class=\"n\">lon</span> <span class=\"o\">=</span> <span class=\"o\">-</span><span class=\"n\">lon</span>\n",
       "\n",
       "        <span class=\"n\">msg</span> <span class=\"o\">=</span> <span class=\"n\">RMC</span><span class=\"p\">(</span>\n",
       "            <span class=\"nb\">id</span><span class=\"p\">,</span>\n",
       "            <span class=\"n\">utc</span><span class=\"p\">,</span>\n",
       "            <span class=\"n\">chunks</span><span class=\"p\">[</span><span class=\"mi\">2</span><span class=\"p\">],</span>\n",
       "            <span class=\"n\">lat</span><span class=\"p\">,</span>\n",
       "            <span class=\"n\">lon</span><span class=\"p\">,</span>\n",
       "            <span class=\"nb\">float</span><span class=\"p\">(</span><span class=\"n\">chunks</span><span class=\"p\">[</span><span class=\"mi\">7</span><span class=\"p\">]),</span>\n",
       "            <span class=\"nb\">float</span><span class=\"p\">(</span><span class=\"n\">chunks</span><span class=\"p\">[</span><span class=\"mi\">8</span><span class=\"p\">]),</span>\n",
       "            <span class=\"n\">date_t</span><span class=\"p\">(</span>\n",
       "                <span class=\"nb\">int</span><span class=\"p\">(</span><span class=\"n\">chunks</span><span class=\"p\">[</span><span class=\"mi\">9</span><span class=\"p\">][:</span><span class=\"mi\">2</span><span class=\"p\">]),</span>\n",
       "                <span class=\"nb\">int</span><span class=\"p\">(</span><span class=\"n\">chunks</span><span class=\"p\">[</span><span class=\"mi\">9</span><span class=\"p\">][</span><span class=\"mi\">2</span><span class=\"p\">:</span><span class=\"mi\">4</span><span class=\"p\">]),</span>\n",
       "                <span class=\"nb\">int</span><span class=\"p\">(</span><span class=\"n\">chunks</span><span class=\"p\">[</span><span class=\"mi\">9</span><span class=\"p\">][</span><span class=\"mi\">4</span><span class=\"p\">:])</span>\n",
       "            <span class=\"p\">),</span>\n",
       "            <span class=\"s2\">&quot;&quot;</span> <span class=\"k\">if</span> <span class=\"n\">chunks</span><span class=\"p\">[</span><span class=\"mi\">10</span><span class=\"p\">]</span> <span class=\"o\">==</span> <span class=\"s2\">&quot;&quot;</span> <span class=\"k\">else</span> <span class=\"nb\">float</span><span class=\"p\">(</span><span class=\"n\">chunks</span><span class=\"p\">[</span><span class=\"mi\">10</span><span class=\"p\">])</span>\n",
       "        <span class=\"p\">)</span>\n",
       "        <span class=\"k\">return</span> <span class=\"n\">msg</span>\n",
       "\n",
       "    <span class=\"k\">def</span> <span class=\"nf\">gga_parser</span><span class=\"p\">(</span><span class=\"bp\">self</span><span class=\"p\">,</span> <span class=\"n\">msg</span><span class=\"p\">):</span>\n",
       "<span class=\"w\">        </span><span class=\"sd\">&quot;&quot;&quot;</span>\n",
       "<span class=\"sd\">        $GPGGA,234805.000,3906.7106,N,12120.3144,W,1,04,1.77,135.6,M,-22.1,M,,*50</span>\n",
       "<span class=\"sd\">        GGA = namedtuple(&quot;GGA&quot;, &quot;id utc lat lon qual num_sats hdop msl geoid age ref_id&quot;)</span>\n",
       "<span class=\"sd\">        &quot;&quot;&quot;</span>\n",
       "        <span class=\"n\">chunks</span> <span class=\"o\">=</span> <span class=\"n\">msg</span><span class=\"p\">[</span><span class=\"mi\">1</span><span class=\"p\">:</span><span class=\"o\">-</span><span class=\"mi\">3</span><span class=\"p\">]</span><span class=\"o\">.</span><span class=\"n\">split</span><span class=\"p\">(</span><span class=\"s1\">&#39;,&#39;</span><span class=\"p\">)</span>\n",
       "        <span class=\"nb\">id</span> <span class=\"o\">=</span> <span class=\"n\">chunks</span><span class=\"p\">[</span><span class=\"mi\">0</span><span class=\"p\">]</span>\n",
       "        <span class=\"n\">utc</span> <span class=\"o\">=</span> <span class=\"n\">time_t</span><span class=\"p\">(</span>\n",
       "            <span class=\"nb\">int</span><span class=\"p\">(</span><span class=\"n\">chunks</span><span class=\"p\">[</span><span class=\"mi\">1</span><span class=\"p\">][:</span><span class=\"mi\">2</span><span class=\"p\">]),</span>\n",
       "            <span class=\"nb\">int</span><span class=\"p\">(</span><span class=\"n\">chunks</span><span class=\"p\">[</span><span class=\"mi\">1</span><span class=\"p\">][</span><span class=\"mi\">2</span><span class=\"p\">:</span><span class=\"mi\">4</span><span class=\"p\">]),</span>\n",
       "            <span class=\"nb\">float</span><span class=\"p\">(</span><span class=\"n\">chunks</span><span class=\"p\">[</span><span class=\"mi\">1</span><span class=\"p\">][</span><span class=\"mi\">4</span><span class=\"p\">:])</span>\n",
       "        <span class=\"p\">)</span>\n",
       "        <span class=\"n\">lat</span> <span class=\"o\">=</span> <span class=\"nb\">float</span><span class=\"p\">(</span><span class=\"n\">chunks</span><span class=\"p\">[</span><span class=\"mi\">2</span><span class=\"p\">][:</span><span class=\"mi\">2</span><span class=\"p\">])</span> <span class=\"o\">+</span> <span class=\"nb\">float</span><span class=\"p\">(</span><span class=\"n\">chunks</span><span class=\"p\">[</span><span class=\"mi\">2</span><span class=\"p\">][</span><span class=\"mi\">2</span><span class=\"p\">:])</span> <span class=\"o\">/</span> <span class=\"mf\">60.0</span>\n",
       "        <span class=\"k\">if</span> <span class=\"n\">chunks</span><span class=\"p\">[</span><span class=\"mi\">3</span><span class=\"p\">]</span> <span class=\"o\">==</span> <span class=\"s1\">&#39;S&#39;</span><span class=\"p\">:</span>\n",
       "            <span class=\"n\">lat</span> <span class=\"o\">=</span> <span class=\"o\">-</span><span class=\"n\">lat</span>\n",
       "        <span class=\"n\">lon</span> <span class=\"o\">=</span> <span class=\"nb\">float</span><span class=\"p\">(</span><span class=\"n\">chunks</span><span class=\"p\">[</span><span class=\"mi\">4</span><span class=\"p\">][:</span><span class=\"mi\">3</span><span class=\"p\">])</span> <span class=\"o\">+</span> <span class=\"nb\">float</span><span class=\"p\">(</span><span class=\"n\">chunks</span><span class=\"p\">[</span><span class=\"mi\">4</span><span class=\"p\">][</span><span class=\"mi\">3</span><span class=\"p\">:])</span> <span class=\"o\">/</span> <span class=\"mf\">60.0</span>\n",
       "        <span class=\"k\">if</span> <span class=\"n\">chunks</span><span class=\"p\">[</span><span class=\"mi\">5</span><span class=\"p\">]</span> <span class=\"o\">==</span> <span class=\"s1\">&#39;W&#39;</span><span class=\"p\">:</span>\n",
       "            <span class=\"n\">lon</span> <span class=\"o\">=</span> <span class=\"o\">-</span><span class=\"n\">lon</span>\n",
       "\n",
       "        <span class=\"n\">msg</span> <span class=\"o\">=</span> <span class=\"n\">GGA</span><span class=\"p\">(</span>\n",
       "            <span class=\"nb\">id</span><span class=\"p\">,</span>\n",
       "            <span class=\"n\">utc</span><span class=\"p\">,</span>\n",
       "            <span class=\"n\">lat</span><span class=\"p\">,</span> <span class=\"n\">lon</span><span class=\"p\">,</span>\n",
       "            <span class=\"nb\">int</span><span class=\"p\">(</span><span class=\"n\">chunks</span><span class=\"p\">[</span><span class=\"mi\">6</span><span class=\"p\">]),</span>\n",
       "            <span class=\"nb\">int</span><span class=\"p\">(</span><span class=\"n\">chunks</span><span class=\"p\">[</span><span class=\"mi\">7</span><span class=\"p\">]),</span>\n",
       "            <span class=\"nb\">float</span><span class=\"p\">(</span><span class=\"n\">chunks</span><span class=\"p\">[</span><span class=\"mi\">8</span><span class=\"p\">]),</span>\n",
       "            <span class=\"nb\">float</span><span class=\"p\">(</span><span class=\"n\">chunks</span><span class=\"p\">[</span><span class=\"mi\">9</span><span class=\"p\">]),</span>\n",
       "            <span class=\"nb\">float</span><span class=\"p\">(</span><span class=\"n\">chunks</span><span class=\"p\">[</span><span class=\"mi\">11</span><span class=\"p\">]),</span>\n",
       "            <span class=\"s2\">&quot;&quot;</span> <span class=\"k\">if</span> <span class=\"n\">chunks</span><span class=\"p\">[</span><span class=\"mi\">13</span><span class=\"p\">]</span> <span class=\"o\">==</span> <span class=\"s2\">&quot;&quot;</span> <span class=\"k\">else</span> <span class=\"nb\">float</span><span class=\"p\">(</span><span class=\"n\">chunks</span><span class=\"p\">[</span><span class=\"mi\">13</span><span class=\"p\">]),</span>\n",
       "            <span class=\"s2\">&quot;&quot;</span> <span class=\"k\">if</span> <span class=\"n\">chunks</span><span class=\"p\">[</span><span class=\"mi\">14</span><span class=\"p\">]</span> <span class=\"o\">==</span> <span class=\"s2\">&quot;&quot;</span> <span class=\"k\">else</span> <span class=\"nb\">int</span><span class=\"p\">(</span><span class=\"n\">chunks</span><span class=\"p\">[</span><span class=\"mi\">14</span><span class=\"p\">]),</span>\n",
       "        <span class=\"p\">)</span>\n",
       "        <span class=\"k\">return</span> <span class=\"n\">msg</span>\n",
       "</pre></div>\n"
      ],
      "text/plain": [
       "<IPython.core.display.HTML object>"
      ]
     },
     "metadata": {},
     "output_type": "display_data"
    }
   ],
   "source": [
    "getCodeImport(Parser)"
   ]
  },
  {
   "cell_type": "code",
   "execution_count": null,
   "id": "ec5e4ca5-5f49-4b56-b542-cf57b533caff",
   "metadata": {},
   "outputs": [],
   "source": []
  }
 ],
 "metadata": {
  "kernelspec": {
   "display_name": "Python 3 (ipykernel)",
   "language": "python",
   "name": "python3"
  },
  "language_info": {
   "codemirror_mode": {
    "name": "ipython",
    "version": 3
   },
   "file_extension": ".py",
   "mimetype": "text/x-python",
   "name": "python",
   "nbconvert_exporter": "python",
   "pygments_lexer": "ipython3",
   "version": "3.11.4"
  }
 },
 "nbformat": 4,
 "nbformat_minor": 5
}
